{
 "cells": [
  {
   "cell_type": "markdown",
   "id": "b340d26a",
   "metadata": {},
   "source": [
    "# Q1"
   ]
  },
  {
   "cell_type": "code",
   "execution_count": null,
   "id": "bdfadf11",
   "metadata": {},
   "outputs": [],
   "source": [
    "# For Loop: A for loop is an iteration method that is best used when you know the number of iterations ahead of time. It’s always followed by the initialization, expression and increment statements.\n",
    "\n",
    "# While Loop: A while loop is an iteration method that is best used when you don't know the number of iterations ahead of time. The contents of the loop are executed as long as the expression evaluates to true.\n"
   ]
  },
  {
   "cell_type": "code",
   "execution_count": 2,
   "id": "b783cb23",
   "metadata": {},
   "outputs": [
    {
     "name": "stdout",
     "output_type": "stream",
     "text": [
      "1\n",
      "2\n",
      "Vishal\n",
      "MEHS\n",
      "78.9\n"
     ]
    }
   ],
   "source": [
    "# for loop \n",
    "\n",
    "l = [1,2,\"Vishal\", \"MEHS\", 78.90]\n",
    "for i in l :\n",
    "    print(i)"
   ]
  },
  {
   "cell_type": "code",
   "execution_count": 3,
   "id": "38788021",
   "metadata": {},
   "outputs": [
    {
     "name": "stdout",
     "output_type": "stream",
     "text": [
      "1\n",
      "2\n",
      "Vishal\n",
      "MEHS\n",
      "78.9\n"
     ]
    }
   ],
   "source": [
    "#while loop \n",
    "\n",
    "i = 0\n",
    "while i < len(l):\n",
    "    print(l[i])\n",
    "    i += 1"
   ]
  },
  {
   "cell_type": "markdown",
   "id": "fd970981",
   "metadata": {},
   "source": [
    "# Question 2"
   ]
  },
  {
   "cell_type": "code",
   "execution_count": 3,
   "id": "fd025676",
   "metadata": {},
   "outputs": [
    {
     "data": {
      "text/plain": [
       "[1, 2, 3, 4, 5, 6, 7, 8, 9]"
      ]
     },
     "execution_count": 3,
     "metadata": {},
     "output_type": "execute_result"
    }
   ],
   "source": [
    "list(range(1,10))"
   ]
  },
  {
   "cell_type": "code",
   "execution_count": 13,
   "id": "c3455c08",
   "metadata": {},
   "outputs": [
    {
     "name": "stdout",
     "output_type": "stream",
     "text": [
      "The sum of the first 10 natural numbers is  55\n"
     ]
    }
   ],
   "source": [
    "#Addition using for loop \n",
    "n = 10 \n",
    "sum = 0\n",
    "\n",
    "for i in range(1, n + 1):\n",
    "    sum += i \n",
    "print(\"The sum of the first 10 natural numbers is \" , sum)"
   ]
  },
  {
   "cell_type": "code",
   "execution_count": 14,
   "id": "120e3556",
   "metadata": {},
   "outputs": [
    {
     "name": "stdout",
     "output_type": "stream",
     "text": [
      "The sum of the first 10 natural numbers is  55\n"
     ]
    }
   ],
   "source": [
    "##Addition using while loop \n",
    "\n",
    "i = 1 \n",
    "sum = 0\n",
    "while i <= n:\n",
    "    sum += i\n",
    "    i+=1\n",
    "print(\"The sum of the first 10 natural numbers is \" , sum)"
   ]
  },
  {
   "cell_type": "code",
   "execution_count": 16,
   "id": "1413e58c",
   "metadata": {},
   "outputs": [
    {
     "name": "stdout",
     "output_type": "stream",
     "text": [
      "The product of the first 10 natural numbers is  3628800\n"
     ]
    }
   ],
   "source": [
    "#Multiplication using for loop \n",
    "n = 10\n",
    "Product = 1\n",
    "\n",
    "for i in range(1, n + 1):\n",
    "    Product = Product * i\n",
    "print(\"The product of the first 10 natural numbers is \" , Product)"
   ]
  },
  {
   "cell_type": "code",
   "execution_count": 17,
   "id": "de0978bd",
   "metadata": {},
   "outputs": [
    {
     "name": "stdout",
     "output_type": "stream",
     "text": [
      "The product of the first 10 natural numbers is  3628800\n"
     ]
    }
   ],
   "source": [
    "#Multiplication using while loop \n",
    "n = 10\n",
    "Product = 1\n",
    "i = 1\n",
    "\n",
    "while i <= n:\n",
    "    Product *= i\n",
    "    i += 1\n",
    "print(\"The product of the first 10 natural numbers is \" , Product)"
   ]
  },
  {
   "cell_type": "markdown",
   "id": "a765e514",
   "metadata": {},
   "source": [
    "# Question 3"
   ]
  },
  {
   "cell_type": "code",
   "execution_count": 22,
   "id": "5d1a5b26",
   "metadata": {},
   "outputs": [
    {
     "name": "stdout",
     "output_type": "stream",
     "text": [
      "Enter the number of units consumed: 310\n",
      "2250.0\n"
     ]
    }
   ],
   "source": [
    "Unit = int(input(\"Enter the number of units consumed: \"))\n",
    "Bill = 1\n",
    "\n",
    "if Unit <= 100:\n",
    "    Bill = Unit * 4.5 \n",
    "elif (Unit > 100 and Unit <=200):\n",
    "    new_unit = Unit - 100\n",
    "    Bill = new_unit * 6 + 4.5 * 100\n",
    "elif (Unit > 200 and Unit <= 300):\n",
    "    new_unit = Unit - 200\n",
    "    Bill = new_unit * 10 + 100 * 6 + 100 * 4.5\n",
    "else:\n",
    "    new_unit = Unit - 300\n",
    "    Bill = new_unit * 20 + 100 * 10 + 100 * 6 + 100 * 4.5\n",
    "print(Bill)"
   ]
  },
  {
   "cell_type": "markdown",
   "id": "6d2faa59",
   "metadata": {},
   "source": [
    "# Question 4"
   ]
  },
  {
   "cell_type": "code",
   "execution_count": 31,
   "id": "1f6923dd",
   "metadata": {},
   "outputs": [
    {
     "name": "stdout",
     "output_type": "stream",
     "text": [
      "[2, 4, 5, 6, 8, 10, 12, 14, 15, 16, 18, 20, 22, 24, 25, 26, 28, 30, 32, 34, 35, 36, 38, 40, 42, 44, 45, 46, 48, 50, 52, 54, 55, 56, 58, 60, 62, 64, 65, 66, 68, 70, 72, 74, 75, 76, 78, 80, 82, 84, 85, 86, 88, 90, 92, 94, 95, 96, 98, 100]\n"
     ]
    }
   ],
   "source": [
    "l = list(range(1,101))\n",
    "l1 = []\n",
    "\n",
    "for i in l:\n",
    "    if( i**3) % 4 == 0 or (i**3) % 5 == 0:\n",
    "        l1.append(i)\n",
    "print(l1)    "
   ]
  },
  {
   "cell_type": "code",
   "execution_count": 34,
   "id": "7758aad9",
   "metadata": {},
   "outputs": [
    {
     "name": "stdout",
     "output_type": "stream",
     "text": [
      "[2, 4, 5, 6, 8, 10, 12, 14, 15, 16, 18, 20, 22, 24, 25, 26, 28, 30, 32, 34, 35, 36, 38, 40, 42, 44, 45, 46, 48, 50, 52, 54, 55, 56, 58, 60, 62, 64, 65, 66, 68, 70, 72, 74, 75, 76, 78, 80, 82, 84, 85, 86, 88, 90, 92, 94, 95, 96, 98, 100]\n"
     ]
    }
   ],
   "source": [
    "l = []\n",
    "l1 = []\n",
    "i = 1\n",
    "while i < 101:\n",
    "    l.append(i)\n",
    "    if( i**3) % 4 == 0 or (i**3) % 5 == 0:\n",
    "        l1.append(i)\n",
    "    i+=1\n",
    "    \n",
    "print(l1)\n",
    "    \n",
    "    "
   ]
  },
  {
   "cell_type": "markdown",
   "id": "5e72a120",
   "metadata": {},
   "source": [
    "# Question 5"
   ]
  },
  {
   "cell_type": "code",
   "execution_count": 3,
   "id": "8a69530f",
   "metadata": {},
   "outputs": [
    {
     "name": "stdout",
     "output_type": "stream",
     "text": [
      "The number of vowels in string are  12\n",
      "['i', 'a', 'o', 'e', 'o', 'e', 'a', 'a', 'a', 'i', 'e', 'i']\n"
     ]
    }
   ],
   "source": [
    "string = \"I want to become a data scientist\"\n",
    "string_l = string.lower()\n",
    "l2 = []\n",
    "\n",
    "vowels = [\"a\",\"e\",\"i\",\"o\",\"u\"]\n",
    "\n",
    "counter = 0\n",
    "for k in string_l:\n",
    "    if k in vowels:\n",
    "        counter += 1\n",
    "        l2.append(k)\n",
    "print(\"The number of vowels in string are \",counter)\n",
    "print(l2)"
   ]
  },
  {
   "cell_type": "code",
   "execution_count": null,
   "id": "3f02f30a",
   "metadata": {},
   "outputs": [],
   "source": []
  }
 ],
 "metadata": {
  "kernelspec": {
   "display_name": "Python 3",
   "language": "python",
   "name": "python3"
  },
  "language_info": {
   "codemirror_mode": {
    "name": "ipython",
    "version": 3
   },
   "file_extension": ".py",
   "mimetype": "text/x-python",
   "name": "python",
   "nbconvert_exporter": "python",
   "pygments_lexer": "ipython3",
   "version": "3.8.8"
  }
 },
 "nbformat": 4,
 "nbformat_minor": 5
}
